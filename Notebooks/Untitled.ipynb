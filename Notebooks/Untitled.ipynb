{
 "cells": [
  {
   "cell_type": "code",
   "execution_count": 1,
   "id": "89babad8-aefb-4917-a764-70a5a4149dc0",
   "metadata": {},
   "outputs": [
    {
     "name": "stdout",
     "output_type": "stream",
     "text": [
      "Requirement already satisfied: boto3 in c:\\users\\shazi\\appdata\\local\\programs\\python\\python313\\lib\\site-packages (1.37.34)\n",
      "Collecting pandas\n",
      "  Downloading pandas-2.2.3-cp313-cp313-win_amd64.whl.metadata (19 kB)\n",
      "Collecting numpy\n",
      "  Downloading numpy-2.2.4-cp313-cp313-win_amd64.whl.metadata (60 kB)\n",
      "Requirement already satisfied: botocore<1.38.0,>=1.37.34 in c:\\users\\shazi\\appdata\\local\\programs\\python\\python313\\lib\\site-packages (from boto3) (1.37.34)\n",
      "Requirement already satisfied: jmespath<2.0.0,>=0.7.1 in c:\\users\\shazi\\appdata\\local\\programs\\python\\python313\\lib\\site-packages (from boto3) (1.0.1)\n",
      "Requirement already satisfied: s3transfer<0.12.0,>=0.11.0 in c:\\users\\shazi\\appdata\\local\\programs\\python\\python313\\lib\\site-packages (from boto3) (0.11.4)\n",
      "Requirement already satisfied: python-dateutil>=2.8.2 in c:\\users\\shazi\\appdata\\local\\programs\\python\\python313\\lib\\site-packages (from pandas) (2.9.0.post0)\n",
      "Collecting pytz>=2020.1 (from pandas)\n",
      "  Downloading pytz-2025.2-py2.py3-none-any.whl.metadata (22 kB)\n",
      "Collecting tzdata>=2022.7 (from pandas)\n",
      "  Downloading tzdata-2025.2-py2.py3-none-any.whl.metadata (1.4 kB)\n",
      "Requirement already satisfied: urllib3!=2.2.0,<3,>=1.25.4 in c:\\users\\shazi\\appdata\\local\\programs\\python\\python313\\lib\\site-packages (from botocore<1.38.0,>=1.37.34->boto3) (2.4.0)\n",
      "Requirement already satisfied: six>=1.5 in c:\\users\\shazi\\appdata\\local\\programs\\python\\python313\\lib\\site-packages (from python-dateutil>=2.8.2->pandas) (1.17.0)\n",
      "Downloading pandas-2.2.3-cp313-cp313-win_amd64.whl (11.5 MB)\n",
      "   ---------------------------------------- 0.0/11.5 MB ? eta -:--:--\n",
      "   -------- ------------------------------- 2.4/11.5 MB 12.7 MB/s eta 0:00:01\n",
      "   ------------------- -------------------- 5.5/11.5 MB 13.7 MB/s eta 0:00:01\n",
      "   ------------------------------ --------- 8.7/11.5 MB 14.1 MB/s eta 0:00:01\n",
      "   ---------------------------------------  11.3/11.5 MB 14.4 MB/s eta 0:00:01\n",
      "   ---------------------------------------- 11.5/11.5 MB 13.9 MB/s eta 0:00:00\n",
      "Downloading numpy-2.2.4-cp313-cp313-win_amd64.whl (12.6 MB)\n",
      "   ---------------------------------------- 0.0/12.6 MB ? eta -:--:--\n",
      "   --------- ------------------------------ 3.1/12.6 MB 15.2 MB/s eta 0:00:01\n",
      "   ------------------- -------------------- 6.3/12.6 MB 15.1 MB/s eta 0:00:01\n",
      "   ------------------------------ --------- 9.7/12.6 MB 15.1 MB/s eta 0:00:01\n",
      "   ---------------------------------------  12.6/12.6 MB 15.1 MB/s eta 0:00:01\n",
      "   ---------------------------------------- 12.6/12.6 MB 14.5 MB/s eta 0:00:00\n",
      "Downloading pytz-2025.2-py2.py3-none-any.whl (509 kB)\n",
      "Downloading tzdata-2025.2-py2.py3-none-any.whl (347 kB)\n",
      "Installing collected packages: pytz, tzdata, numpy, pandas\n",
      "Successfully installed numpy-2.2.4 pandas-2.2.3 pytz-2025.2 tzdata-2025.2\n",
      "Note: you may need to restart the kernel to use updated packages.\n"
     ]
    }
   ],
   "source": [
    "pip install boto3 pandas numpy\n"
   ]
  },
  {
   "cell_type": "code",
   "execution_count": null,
   "id": "5481e168-e30e-4dad-a440-20cb807dce45",
   "metadata": {},
   "outputs": [],
   "source": []
  }
 ],
 "metadata": {
  "kernelspec": {
   "display_name": "Python 3 (ipykernel)",
   "language": "python",
   "name": "python3"
  },
  "language_info": {
   "codemirror_mode": {
    "name": "ipython",
    "version": 3
   },
   "file_extension": ".py",
   "mimetype": "text/x-python",
   "name": "python",
   "nbconvert_exporter": "python",
   "pygments_lexer": "ipython3",
   "version": "3.13.3"
  }
 },
 "nbformat": 4,
 "nbformat_minor": 5
}
