{
 "cells": [
  {
   "cell_type": "markdown",
   "metadata": {},
   "source": [
    "# Track 1: AWS MLOps - Day 1\n",
    "## Objective: Launch SageMaker and Test boto3"
   ]
  },
  {
   "cell_type": "markdown",
   "metadata": {},
   "source": [
    "### AWS MLOps Stack Overview:\n",
    "- **Amazon S3**: Stores data and model artifacts.\n",
    "- **Amazon SageMaker**: Model training, hosting, deployment.\n",
    "- **AWS Lambda**: Trigger model endpoints without servers.\n",
    "- **CodePipeline**: Automate MLOps workflows.\n",
    "- **Boto3**: Python SDK to interact with AWS services.\n"
   ]
  },
  {
   "cell_type": "code",
   "execution_count": 2,
   "metadata": {},
   "outputs": [
    {
     "name": "stdout",
     "output_type": "stream",
     "text": [
      "Collecting boto3\n",
      "  Downloading boto3-1.37.34-py3-none-any.whl.metadata (6.7 kB)\n",
      "Collecting botocore<1.38.0,>=1.37.34 (from boto3)\n",
      "  Downloading botocore-1.37.34-py3-none-any.whl.metadata (5.7 kB)\n",
      "Collecting jmespath<2.0.0,>=0.7.1 (from boto3)\n",
      "  Downloading jmespath-1.0.1-py3-none-any.whl.metadata (7.6 kB)\n",
      "Collecting s3transfer<0.12.0,>=0.11.0 (from boto3)\n",
      "  Downloading s3transfer-0.11.4-py3-none-any.whl.metadata (1.7 kB)\n",
      "Requirement already satisfied: python-dateutil<3.0.0,>=2.1 in c:\\users\\shazi\\appdata\\local\\programs\\python\\python313\\lib\\site-packages (from botocore<1.38.0,>=1.37.34->boto3) (2.9.0.post0)\n",
      "Requirement already satisfied: urllib3!=2.2.0,<3,>=1.25.4 in c:\\users\\shazi\\appdata\\local\\programs\\python\\python313\\lib\\site-packages (from botocore<1.38.0,>=1.37.34->boto3) (2.4.0)\n",
      "Requirement already satisfied: six>=1.5 in c:\\users\\shazi\\appdata\\local\\programs\\python\\python313\\lib\\site-packages (from python-dateutil<3.0.0,>=2.1->botocore<1.38.0,>=1.37.34->boto3) (1.17.0)\n",
      "Downloading boto3-1.37.34-py3-none-any.whl (139 kB)\n",
      "Downloading botocore-1.37.34-py3-none-any.whl (13.5 MB)\n",
      "   ---------------------------------------- 0.0/13.5 MB ? eta -:--:--\n",
      "   --- ------------------------------------ 1.3/13.5 MB 7.4 MB/s eta 0:00:02\n",
      "   ---------- ----------------------------- 3.7/13.5 MB 9.5 MB/s eta 0:00:02\n",
      "   -------------------- ------------------- 6.8/13.5 MB 11.5 MB/s eta 0:00:01\n",
      "   ------------------------------ --------- 10.2/13.5 MB 12.5 MB/s eta 0:00:01\n",
      "   -------------------------------------- - 12.8/13.5 MB 12.8 MB/s eta 0:00:01\n",
      "   ---------------------------------------- 13.5/13.5 MB 12.8 MB/s eta 0:00:00\n",
      "Downloading jmespath-1.0.1-py3-none-any.whl (20 kB)\n",
      "Downloading s3transfer-0.11.4-py3-none-any.whl (84 kB)\n",
      "Installing collected packages: jmespath, botocore, s3transfer, boto3\n",
      "Successfully installed boto3-1.37.34 botocore-1.37.34 jmespath-1.0.1 s3transfer-0.11.4\n",
      "Note: you may need to restart the kernel to use updated packages.\n"
     ]
    }
   ],
   "source": [
    "pip install boto3\n"
   ]
  },
  {
   "cell_type": "code",
   "execution_count": 4,
   "metadata": {},
   "outputs": [],
   "source": [
    "import boto3\n",
    "#sagemaker = boto3.client('sagemaker')\n",
    "#sagemaker.list_notebook_instances()"
   ]
  },
  {
   "cell_type": "code",
   "execution_count": 5,
   "metadata": {},
   "outputs": [
    {
     "name": "stdout",
     "output_type": "stream",
     "text": [
      "Buddy Ace reporting: SageMaker prep complete!\n"
     ]
    }
   ],
   "source": [
    "print(\"Buddy Ace reporting: SageMaker prep complete!\") \n"
   ]
  },
  {
   "cell_type": "code",
   "execution_count": null,
   "metadata": {},
   "outputs": [],
   "source": []
  }
 ],
 "metadata": {
  "kernelspec": {
   "display_name": "Python 3 (ipykernel)",
   "language": "python",
   "name": "python3"
  },
  "language_info": {
   "codemirror_mode": {
    "name": "ipython",
    "version": 3
   },
   "file_extension": ".py",
   "mimetype": "text/x-python",
   "name": "python",
   "nbconvert_exporter": "python",
   "pygments_lexer": "ipython3",
   "version": "3.13.3"
  }
 },
 "nbformat": 4,
 "nbformat_minor": 4
}
