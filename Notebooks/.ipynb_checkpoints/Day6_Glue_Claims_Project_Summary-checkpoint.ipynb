{
 "cells": [
  {
   "cell_type": "code",
   "execution_count": 1,
   "id": "ad0917aa-2c8d-4958-a24d-914e94ab5115",
   "metadata": {},
   "outputs": [
    {
     "name": "stdout",
     "output_type": "stream",
     "text": [
      "\n",
      " AWS Glue Basics:\n",
      "\n",
      "- AWS Glue is a fully managed ETL (Extract, Transform, Load) service.\n",
      "- It helps prepare and transform raw data from sources like S3.\n",
      "- Glue Crawlers scan data to infer schema and create metadata in Glue Data Catalog.\n",
      "- Glue Jobs are ETL scripts (Python/Scala) to clean and process data.\n",
      "- Glue works seamlessly with Redshift, Athena, and QuickSight.\n",
      "- Serverless — no infrastructure to manage!\n",
      "- Used heavily in healthcare data to clean patient records, claims, and large volumes of medical data.\n",
      "- Perfect for automating data pipelines and feeding analytics dashboards.\n",
      "\n"
     ]
    }
   ],
   "source": [
    "print(\"\"\"\n",
    " AWS Glue Basics:\n",
    "\n",
    "- AWS Glue is a fully managed ETL (Extract, Transform, Load) service.\n",
    "- It helps prepare and transform raw data from sources like S3.\n",
    "- Glue Crawlers scan data to infer schema and create metadata in Glue Data Catalog.\n",
    "- Glue Jobs are ETL scripts (Python/Scala) to clean and process data.\n",
    "- Glue works seamlessly with Redshift, Athena, and QuickSight.\n",
    "- Serverless — no infrastructure to manage!\n",
    "- Used heavily in healthcare data to clean patient records, claims, and large volumes of medical data.\n",
    "- Perfect for automating data pipelines and feeding analytics dashboards.\n",
    "\"\"\")\n"
   ]
  },
  {
   "cell_type": "code",
   "execution_count": 5,
   "id": "06ede388-af7c-460b-90c3-1d8828fa1642",
   "metadata": {},
   "outputs": [
    {
     "name": "stdout",
     "output_type": "stream",
     "text": [
      "\n",
      "Healthcare Claims Lifecycle:\n",
      "\n",
      "1️⃣ Claim Submission:\n",
      "- Healthcare provider submits claim to insurance payer after patient visit.\n",
      "- Includes patient details, services provided, diagnosis codes, procedure codes.\n",
      "\n",
      "2️⃣ Claim Adjudication:\n",
      "- Payer reviews claim to determine coverage.\n",
      "- Checks for errors, eligibility, duplicates, and validates medical necessity.\n",
      "\n",
      "3️⃣ Payment (Remittance):\n",
      "- If approved, payment is processed and remitted to the provider.\n",
      "- Explanation of Benefits (EOB) is shared with patient and provider.\n",
      "\n",
      "4️⃣ Denials & Appeals:\n",
      "- If denied, provider can appeal with additional information.\n",
      "- Proper documentation and coding improve approval rates.\n",
      "\n",
      "Analytics Relevance:\n",
      "- Claim data is rich for analytics: billing patterns, provider performance, fraud detection, patient journey analysis.\n",
      "- AWS Glue can automate the ETL of claims data to make it ready for analysis!\n",
      "\n",
      "\n",
      "\n"
     ]
    }
   ],
   "source": [
    "print(\"\"\"\n",
    "Healthcare Claims Lifecycle:\n",
    "\n",
    "1️⃣ Claim Submission:\n",
    "- Healthcare provider submits claim to insurance payer after patient visit.\n",
    "- Includes patient details, services provided, diagnosis codes, procedure codes.\n",
    "\n",
    "2️⃣ Claim Adjudication:\n",
    "- Payer reviews claim to determine coverage.\n",
    "- Checks for errors, eligibility, duplicates, and validates medical necessity.\n",
    "\n",
    "3️⃣ Payment (Remittance):\n",
    "- If approved, payment is processed and remitted to the provider.\n",
    "- Explanation of Benefits (EOB) is shared with patient and provider.\n",
    "\n",
    "4️⃣ Denials & Appeals:\n",
    "- If denied, provider can appeal with additional information.\n",
    "- Proper documentation and coding improve approval rates.\n",
    "\n",
    "Analytics Relevance:\n",
    "- Claim data is rich for analytics: billing patterns, provider performance, fraud detection, patient journey analysis.\n",
    "- AWS Glue can automate the ETL of claims data to make it ready for analysis!\n",
    "\n",
    "\n",
    "\"\"\")\n"
   ]
  },
  {
   "cell_type": "code",
   "execution_count": null,
   "id": "2e261a39-e90d-4ed8-b9a8-48d20b3e27da",
   "metadata": {},
   "outputs": [],
   "source": [
    "print(\"\"\"\n",
    "Project Summary: Healthcare Readmission Analysis \n",
    "\n",
    " Objective:\n",
    "- Analyze CMS hospital data to identify patterns in readmission rates.\n",
    "- Focus on state-level and hospital-level insights.\n",
    "- Build foundational healthcare analytics skills while preparing AWS cloud data pipeline concepts.\n",
    "\n",
    " Dataset:\n",
    "- CMS Hospital General Information dataset (Cleaned).\n",
    "- Focused on readmission measures and hospital details.\n",
    "\n",
    " Tools & Technologies:\n",
    "- Python (Pandas, Matplotlib, Seaborn)\n",
    "- Jupyter Notebooks\n",
    "- AWS Services (S3, Athena, Glue - learning in progress!)\n",
    "- GitHub for version control and project showcase\n",
    "\n",
    " Progress So Far:\n",
    " Week 1: Data cleaning, state-level insights, GitHub setup\n",
    " Week 2: Hospital-level analysis, AWS Glue and claims lifecycle understanding\n",
    "\n",
    " Next Steps:\n",
    "- Build dashboard with AWS QuickSight\n",
    "- Extend project with AWS Glue simulation\n",
    "- Prepare AWS Analytics Specialty exam\n",
    "- Finalize GitHub & LinkedIn project post for visibility!\n",
    "\n",
    "Day 6 Notebook completed!\n",
    "\"\"\")\n"
   ]
  }
 ],
 "metadata": {
  "kernelspec": {
   "display_name": "Python 3 (ipykernel)",
   "language": "python",
   "name": "python3"
  },
  "language_info": {
   "codemirror_mode": {
    "name": "ipython",
    "version": 3
   },
   "file_extension": ".py",
   "mimetype": "text/x-python",
   "name": "python",
   "nbconvert_exporter": "python",
   "pygments_lexer": "ipython3",
   "version": "3.13.3"
  }
 },
 "nbformat": 4,
 "nbformat_minor": 5
}
